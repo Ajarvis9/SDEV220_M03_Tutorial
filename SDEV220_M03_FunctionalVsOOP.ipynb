{
 "cells": [
  {
   "cell_type": "code",
   "execution_count": 5,
   "id": "f7ac9558-2a6b-45fc-853a-7a31372c9a9f",
   "metadata": {},
   "outputs": [
    {
     "name": "stdout",
     "output_type": "stream",
     "text": [
      "0 0 1 1 2 2 "
     ]
    }
   ],
   "source": [
    "\n",
    "def sort012(arr):\n",
    "    n = len(arr)\n",
    "    lo = 0\n",
    "    hi = n - 1\n",
    "    mid = 0\n",
    "\n",
    "    while mid <= hi:\n",
    "      if arr[mid] == 0:\n",
    "        arr[lo], arr[mid] = arr[mid], arr[lo]\n",
    "        lo = lo + 1\n",
    "        mid = mid + 1\n",
    "        \n",
    "      elif arr[mid] == 1:\n",
    "        mid = mid + 1\n",
    "        \n",
    "      else:\n",
    "        arr[mid], arr[hi] = arr[hi], arr[mid]\n",
    "        hi = hi - 1\n",
    "        \n",
    "    return arr\n",
    "\n",
    "arr = [0, 1, 2, 0, 1, 2]\n",
    "arr = sort012(arr)\n",
    "\n",
    "for x in arr:\n",
    "    print(x, end=\" \")"
   ]
  },
  {
   "cell_type": "code",
   "execution_count": 2,
   "id": "9dda1da4-4bc0-47e0-b171-2d883482b86c",
   "metadata": {},
   "outputs": [
    {
     "name": "stdout",
     "output_type": "stream",
     "text": [
      "Element is present at index  3\n"
     ]
    }
   ],
   "source": [
    "def binarySearch(arr, l, r, x):\n",
    "\n",
    "    if r >= l:\n",
    "\n",
    "        mid = l + (r - l) // 2\n",
    "\n",
    "        if arr[mid] == x:\n",
    "            return mid\n",
    "\n",
    "        elif arr[mid] > x:\n",
    "            return binarySearch(arr, l, mid-1, x)\n",
    "\n",
    "        else:\n",
    "            return binarySearch(arr, mid + 1, r, x)\n",
    "\n",
    "    else:\n",
    "        return -1\n",
    "\n",
    "arr = [2, 3, 4, 10, 40]\n",
    "x = 10\n",
    "\n",
    "result = binarySearch(arr, 0, len(arr)-1, x)\n",
    "\n",
    "if result != -1:\n",
    "    print(\"Element is present at index % d\" % result)\n",
    "else:\n",
    "    print(\"Element is not present in array\")"
   ]
  },
  {
   "cell_type": "code",
   "execution_count": null,
   "id": "0425d4cd-f903-48aa-a584-acfa59cb3dbb",
   "metadata": {},
   "outputs": [],
   "source": []
  }
 ],
 "metadata": {
  "kernelspec": {
   "display_name": "Python 3 (ipykernel)",
   "language": "python",
   "name": "python3"
  },
  "language_info": {
   "codemirror_mode": {
    "name": "ipython",
    "version": 3
   },
   "file_extension": ".py",
   "mimetype": "text/x-python",
   "name": "python",
   "nbconvert_exporter": "python",
   "pygments_lexer": "ipython3",
   "version": "3.12.4"
  }
 },
 "nbformat": 4,
 "nbformat_minor": 5
}
